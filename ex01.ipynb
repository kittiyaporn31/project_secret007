{
  "nbformat": 4,
  "nbformat_minor": 0,
  "metadata": {
    "colab": {
      "provenance": [],
      "authorship_tag": "ABX9TyPr15vyHnVMuBT6l/vOp/6e",
      "include_colab_link": true
    },
    "kernelspec": {
      "name": "python3",
      "display_name": "Python 3"
    },
    "language_info": {
      "name": "python"
    }
  },
  "cells": [
    {
      "cell_type": "markdown",
      "metadata": {
        "id": "view-in-github",
        "colab_type": "text"
      },
      "source": [
        "<a href=\"https://colab.research.google.com/github/kittiyaporn31/project_secret007/blob/main/ex01.ipynb\" target=\"_parent\"><img src=\"https://colab.research.google.com/assets/colab-badge.svg\" alt=\"Open In Colab\"/></a>"
      ]
    },
    {
      "cell_type": "code",
      "execution_count": null,
      "metadata": {
        "id": "4CveWNYkTwK5"
      },
      "outputs": [],
      "source": [
        "#อบรม python วันที่ 27 พฤศจิกายน 2567\n",
        "#654245001 นางสาวกฤติยาภรณ์ กลิ่นดอกแก้ว\n"
      ]
    },
    {
      "cell_type": "code",
      "source": [
        "#ทดสอบการรับค่า input\n",
        "name  = input(\"please enter your name\")\n",
        "print(\"welcome  \"+name)"
      ],
      "metadata": {
        "colab": {
          "base_uri": "https://localhost:8080/"
        },
        "id": "0HhJondKUenQ",
        "outputId": "d7bd6435-5b4c-4978-c589-cfa0e36a5096"
      },
      "execution_count": 3,
      "outputs": [
        {
          "output_type": "stream",
          "name": "stdout",
          "text": [
            "please enter your namekittiyaporn\n",
            "welcome  kittiyaporn\n"
          ]
        }
      ]
    },
    {
      "cell_type": "code",
      "source": [
        "num1 = int(input(\"number 1 : \"))\n",
        "num2 = int(input(\"number 2 : \"))\n",
        "total  = num1 + num2\n",
        "print(\"sum : \"+str(total))"
      ],
      "metadata": {
        "colab": {
          "base_uri": "https://localhost:8080/"
        },
        "id": "IKSENIYdVSb3",
        "outputId": "52b58e48-2729-4f0d-a3fc-6f4ec9a94a0f"
      },
      "execution_count": 6,
      "outputs": [
        {
          "output_type": "stream",
          "name": "stdout",
          "text": [
            "number 1 : 5\n",
            "number 2 : 5\n",
            "sum : 10\n"
          ]
        }
      ]
    },
    {
      "cell_type": "code",
      "source": [
        "weigth =float(input(\"enter your weigth : \"))\n",
        "height =float(input(\"enter your height (m): \"))\n",
        "height = height/100\n",
        "total = weigth/(height*height)\n",
        "print(\"BMI is : \"+str(total))\n"
      ],
      "metadata": {
        "colab": {
          "base_uri": "https://localhost:8080/"
        },
        "id": "34sqm8_daUhR",
        "outputId": "ed3cc734-e197-4507-972d-881c2c2ed454"
      },
      "execution_count": 17,
      "outputs": [
        {
          "output_type": "stream",
          "name": "stdout",
          "text": [
            "enter your weigth : 53\n",
            "enter your height (m): 150\n",
            "BMI is : 23.555555555555557\n"
          ]
        }
      ]
    },
    {
      "cell_type": "code",
      "source": [
        "w=float(input(\"enter space (m) : \"))\n",
        "l=float(input(\"enter space (m) : \"))\n",
        "h=float(input(\"enter space (m) : \"))"
      ],
      "metadata": {
        "id": "0T9eJV3Yh3nj"
      },
      "execution_count": null,
      "outputs": []
    },
    {
      "cell_type": "code",
      "source": [
        "num = 6\n",
        "if num==10 :\n",
        "  print(\"true\")\n",
        "else:\n",
        "  print(\"false\")"
      ],
      "metadata": {
        "colab": {
          "base_uri": "https://localhost:8080/"
        },
        "id": "ZzTY_y1Tkcxb",
        "outputId": "27870097-0f46-4a29-d9e1-31af672ac60b"
      },
      "execution_count": 19,
      "outputs": [
        {
          "output_type": "stream",
          "name": "stdout",
          "text": [
            "false\n"
          ]
        }
      ]
    }
  ]
}