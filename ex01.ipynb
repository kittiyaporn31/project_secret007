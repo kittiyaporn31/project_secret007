{
  "nbformat": 4,
  "nbformat_minor": 0,
  "metadata": {
    "colab": {
      "provenance": [],
      "authorship_tag": "ABX9TyM6rHEl+bLUAag3i64mPDKf",
      "include_colab_link": true
    },
    "kernelspec": {
      "name": "python3",
      "display_name": "Python 3"
    },
    "language_info": {
      "name": "python"
    }
  },
  "cells": [
    {
      "cell_type": "markdown",
      "metadata": {
        "id": "view-in-github",
        "colab_type": "text"
      },
      "source": [
        "<a href=\"https://colab.research.google.com/github/kittiyaporn31/project_secret007/blob/main/ex01.ipynb\" target=\"_parent\"><img src=\"https://colab.research.google.com/assets/colab-badge.svg\" alt=\"Open In Colab\"/></a>"
      ]
    },
    {
      "cell_type": "code",
      "execution_count": null,
      "metadata": {
        "id": "4CveWNYkTwK5"
      },
      "outputs": [],
      "source": [
        "#อบรม python วันที่ 27 พฤศจิกายน 2567\n",
        "#654245001 นางสาวกฤติยาภรณ์ กลิ่นดอกแก้ว\n"
      ]
    },
    {
      "cell_type": "code",
      "source": [
        "#ทดสอบการรับค่า input\n",
        "name  = input(\"please enter your name\")\n",
        "print(\"welcome  \"+name)"
      ],
      "metadata": {
        "colab": {
          "base_uri": "https://localhost:8080/"
        },
        "id": "0HhJondKUenQ",
        "outputId": "d7bd6435-5b4c-4978-c589-cfa0e36a5096"
      },
      "execution_count": 3,
      "outputs": [
        {
          "output_type": "stream",
          "name": "stdout",
          "text": [
            "please enter your namekittiyaporn\n",
            "welcome  kittiyaporn\n"
          ]
        }
      ]
    },
    {
      "cell_type": "code",
      "source": [
        "num1 = int(input(\"number 1 : \"))\n",
        "num2 = int(input(\"number 2 : \"))\n",
        "total  = num1 + num2\n",
        "print(\"sum : \"+str(total))"
      ],
      "metadata": {
        "colab": {
          "base_uri": "https://localhost:8080/"
        },
        "id": "IKSENIYdVSb3",
        "outputId": "52b58e48-2729-4f0d-a3fc-6f4ec9a94a0f"
      },
      "execution_count": 6,
      "outputs": [
        {
          "output_type": "stream",
          "name": "stdout",
          "text": [
            "number 1 : 5\n",
            "number 2 : 5\n",
            "sum : 10\n"
          ]
        }
      ]
    },
    {
      "cell_type": "code",
      "source": [
        "i=1\n",
        "while i<7 :\n",
        "  print(\"hello\")\n",
        "  i=i+1"
      ],
      "metadata": {
        "id": "2gmtbMUEsED9"
      },
      "execution_count": null,
      "outputs": []
    },
    {
      "cell_type": "code",
      "source": [
        "weigth =float(input(\"enter your weigth : \"))\n",
        "height =float(input(\"enter your height (m): \"))\n",
        "height = height/100\n",
        "total = weigth/(height*height)\n",
        "print(\"BMI is : \"+str(total))\n"
      ],
      "metadata": {
        "colab": {
          "base_uri": "https://localhost:8080/"
        },
        "id": "34sqm8_daUhR",
        "outputId": "ed3cc734-e197-4507-972d-881c2c2ed454"
      },
      "execution_count": 17,
      "outputs": [
        {
          "output_type": "stream",
          "name": "stdout",
          "text": [
            "enter your weigth : 53\n",
            "enter your height (m): 150\n",
            "BMI is : 23.555555555555557\n"
          ]
        }
      ]
    },
    {
      "cell_type": "code",
      "source": [
        "import requests # URL ของ API สำหรับดึงข้อมูลราคาบิตคอยน์\n",
        "url = 'https://api.coingecko.com/api/v3/simple/price?ids=bitcoin&vs_currencies=usd'\n",
        "# ส่งคำขอไปยัง API\n",
        "response = requests.get(url)\n",
        "# ตรวจสอบว่าคำขอสำเร็จหรือไม่\n",
        "if response.status_code == 200:\n",
        "  data = response.json()\n",
        "# แปลงข้อมูลที่ได้รับเป็น JSON # ดึงราคาบิตคอยน์ในหน่วย USD\n",
        "  bitcoin_price = data['bitcoin']['usd']\n",
        "  print(f\"ราคาบิตคอยน์ตอนนี้คือ ${bitcoin_price} USD\")\n",
        "else:\n",
        "  print(\"ไม่สามารถดึงข้อมูลได้ กรุณาลองใหม่อีกครั้ง\")"
      ],
      "metadata": {
        "colab": {
          "base_uri": "https://localhost:8080/"
        },
        "id": "s6GAR0-507D_",
        "outputId": "ea734d1a-a314-487f-8910-d156686af49a"
      },
      "execution_count": 25,
      "outputs": [
        {
          "output_type": "stream",
          "name": "stdout",
          "text": [
            "ราคาบิตคอยน์ตอนนี้คือ $93389 USD\n"
          ]
        }
      ]
    },
    {
      "cell_type": "code",
      "source": [
        "num1=float(input(\"กรุณากรอกแม่สูตรคูณที่ต้องการแสดงผล : \"))\n",
        "i=1\n",
        "print(\"คุณต้องการแสดงแม่สูตรคูณแม่ \"+str(num1))\n",
        "print(\"=========================================\")\n",
        "for n in range(2, 12):\n",
        "  print(\"แม่\" +str(i))\n",
        "    for i in range(1, 12):\n",
        "      print(f\"{n} * {i} = {n * i}\")\n",
        "    print(\"-\" * 20)"
      ],
      "metadata": {
        "colab": {
          "base_uri": "https://localhost:8080/"
        },
        "id": "20Y2WW6ruCyO",
        "outputId": "6e8880e8-833b-43d6-bd4d-656841f4885a"
      },
      "execution_count": 23,
      "outputs": [
        {
          "output_type": "stream",
          "name": "stdout",
          "text": [
            "กรุณากรอกแม่สูตรคูณที่ต้องการแสดงผล : 2\n",
            "คุณต้องการแสดงแม่สูตรคูณแม่ 2.0\n",
            "=========================================\n",
            "2 * 1 = 2\n",
            "2 * 2 = 4\n",
            "2 * 3 = 6\n",
            "2 * 4 = 8\n",
            "2 * 5 = 10\n",
            "2 * 6 = 12\n",
            "2 * 7 = 14\n",
            "2 * 8 = 16\n",
            "2 * 9 = 18\n",
            "2 * 10 = 20\n",
            "2 * 11 = 22\n",
            "--------------------\n",
            "3 * 1 = 3\n",
            "3 * 2 = 6\n",
            "3 * 3 = 9\n",
            "3 * 4 = 12\n",
            "3 * 5 = 15\n",
            "3 * 6 = 18\n",
            "3 * 7 = 21\n",
            "3 * 8 = 24\n",
            "3 * 9 = 27\n",
            "3 * 10 = 30\n",
            "3 * 11 = 33\n",
            "--------------------\n",
            "4 * 1 = 4\n",
            "4 * 2 = 8\n",
            "4 * 3 = 12\n",
            "4 * 4 = 16\n",
            "4 * 5 = 20\n",
            "4 * 6 = 24\n",
            "4 * 7 = 28\n",
            "4 * 8 = 32\n",
            "4 * 9 = 36\n",
            "4 * 10 = 40\n",
            "4 * 11 = 44\n",
            "--------------------\n",
            "5 * 1 = 5\n",
            "5 * 2 = 10\n",
            "5 * 3 = 15\n",
            "5 * 4 = 20\n",
            "5 * 5 = 25\n",
            "5 * 6 = 30\n",
            "5 * 7 = 35\n",
            "5 * 8 = 40\n",
            "5 * 9 = 45\n",
            "5 * 10 = 50\n",
            "5 * 11 = 55\n",
            "--------------------\n",
            "6 * 1 = 6\n",
            "6 * 2 = 12\n",
            "6 * 3 = 18\n",
            "6 * 4 = 24\n",
            "6 * 5 = 30\n",
            "6 * 6 = 36\n",
            "6 * 7 = 42\n",
            "6 * 8 = 48\n",
            "6 * 9 = 54\n",
            "6 * 10 = 60\n",
            "6 * 11 = 66\n",
            "--------------------\n",
            "7 * 1 = 7\n",
            "7 * 2 = 14\n",
            "7 * 3 = 21\n",
            "7 * 4 = 28\n",
            "7 * 5 = 35\n",
            "7 * 6 = 42\n",
            "7 * 7 = 49\n",
            "7 * 8 = 56\n",
            "7 * 9 = 63\n",
            "7 * 10 = 70\n",
            "7 * 11 = 77\n",
            "--------------------\n",
            "8 * 1 = 8\n",
            "8 * 2 = 16\n",
            "8 * 3 = 24\n",
            "8 * 4 = 32\n",
            "8 * 5 = 40\n",
            "8 * 6 = 48\n",
            "8 * 7 = 56\n",
            "8 * 8 = 64\n",
            "8 * 9 = 72\n",
            "8 * 10 = 80\n",
            "8 * 11 = 88\n",
            "--------------------\n",
            "9 * 1 = 9\n",
            "9 * 2 = 18\n",
            "9 * 3 = 27\n",
            "9 * 4 = 36\n",
            "9 * 5 = 45\n",
            "9 * 6 = 54\n",
            "9 * 7 = 63\n",
            "9 * 8 = 72\n",
            "9 * 9 = 81\n",
            "9 * 10 = 90\n",
            "9 * 11 = 99\n",
            "--------------------\n",
            "10 * 1 = 10\n",
            "10 * 2 = 20\n",
            "10 * 3 = 30\n",
            "10 * 4 = 40\n",
            "10 * 5 = 50\n",
            "10 * 6 = 60\n",
            "10 * 7 = 70\n",
            "10 * 8 = 80\n",
            "10 * 9 = 90\n",
            "10 * 10 = 100\n",
            "10 * 11 = 110\n",
            "--------------------\n",
            "11 * 1 = 11\n",
            "11 * 2 = 22\n",
            "11 * 3 = 33\n",
            "11 * 4 = 44\n",
            "11 * 5 = 55\n",
            "11 * 6 = 66\n",
            "11 * 7 = 77\n",
            "11 * 8 = 88\n",
            "11 * 9 = 99\n",
            "11 * 10 = 110\n",
            "11 * 11 = 121\n",
            "--------------------\n"
          ]
        }
      ]
    },
    {
      "cell_type": "code",
      "source": [],
      "metadata": {
        "id": "AOxb9NuOy3YX"
      },
      "execution_count": null,
      "outputs": []
    },
    {
      "cell_type": "code",
      "source": [
        "w=float(input(\"enter space (m) : \"))\n",
        "l=float(input(\"enter space (m) : \"))\n",
        "h=float(input(\"enter space (m) : \"))"
      ],
      "metadata": {
        "id": "0T9eJV3Yh3nj"
      },
      "execution_count": null,
      "outputs": []
    },
    {
      "cell_type": "code",
      "source": [
        "num = 6\n",
        "if num==10 :\n",
        "  print(\"true\")\n",
        "else:\n",
        "  print(\"false\")"
      ],
      "metadata": {
        "colab": {
          "base_uri": "https://localhost:8080/"
        },
        "id": "ZzTY_y1Tkcxb",
        "outputId": "27870097-0f46-4a29-d9e1-31af672ac60b"
      },
      "execution_count": 19,
      "outputs": [
        {
          "output_type": "stream",
          "name": "stdout",
          "text": [
            "false\n"
          ]
        }
      ]
    }
  ]
}